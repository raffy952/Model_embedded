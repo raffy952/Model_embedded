{
  "cells": [
    {
      "cell_type": "code",
      "execution_count": 5,
      "metadata": {
        "colab": {
          "base_uri": "https://localhost:8080/",
          "height": 1000
        },
        "id": "QU9hmqz-TZ9e",
        "outputId": "b78f8e8b-7c4c-43dc-f067-c9df9d6be4c7"
      },
      "outputs": [
        {
          "name": "stdout",
          "output_type": "stream",
          "text": [
            "Defaulting to user installation because normal site-packages is not writeable\n",
            "Requirement already satisfied: ultralytics in /home/chiavetta/.local/lib/python3.10/site-packages (8.2.17)\n",
            "Requirement already satisfied: opencv-python>=4.6.0 in /home/chiavetta/.local/lib/python3.10/site-packages (from ultralytics) (4.9.0.80)\n",
            "Requirement already satisfied: torchvision>=0.9.0 in /home/chiavetta/.local/lib/python3.10/site-packages (from ultralytics) (0.18.0)\n",
            "Requirement already satisfied: matplotlib>=3.3.0 in /usr/lib/python3/dist-packages (from ultralytics) (3.5.1)\n",
            "Requirement already satisfied: psutil in /usr/lib/python3/dist-packages (from ultralytics) (5.9.0)\n",
            "Requirement already satisfied: tqdm>=4.64.0 in /home/chiavetta/.local/lib/python3.10/site-packages (from ultralytics) (4.66.4)\n",
            "Requirement already satisfied: thop>=0.1.1 in /home/chiavetta/.local/lib/python3.10/site-packages (from ultralytics) (0.1.1.post2209072238)\n",
            "Requirement already satisfied: py-cpuinfo in /home/chiavetta/.local/lib/python3.10/site-packages (from ultralytics) (9.0.0)\n",
            "Requirement already satisfied: requests>=2.23.0 in /home/chiavetta/.local/lib/python3.10/site-packages (from ultralytics) (2.27.1)\n",
            "Requirement already satisfied: pillow>=7.1.2 in /usr/lib/python3/dist-packages (from ultralytics) (9.0.1)\n",
            "Requirement already satisfied: pyyaml>=5.3.1 in /usr/lib/python3/dist-packages (from ultralytics) (5.4.1)\n",
            "Requirement already satisfied: seaborn>=0.11.0 in /home/chiavetta/.local/lib/python3.10/site-packages (from ultralytics) (0.13.2)\n",
            "Requirement already satisfied: torch>=1.8.0 in /home/chiavetta/.local/lib/python3.10/site-packages (from ultralytics) (2.3.0)\n",
            "Requirement already satisfied: scipy>=1.4.1 in /usr/lib/python3/dist-packages (from ultralytics) (1.8.0)\n",
            "Requirement already satisfied: pandas>=1.1.4 in /home/chiavetta/.local/lib/python3.10/site-packages (from ultralytics) (2.2.2)\n",
            "Requirement already satisfied: numpy>=1.19.3 in /home/chiavetta/.local/lib/python3.10/site-packages (from opencv-python>=4.6.0->ultralytics) (1.26.4)\n",
            "Requirement already satisfied: tzdata>=2022.7 in /home/chiavetta/.local/lib/python3.10/site-packages (from pandas>=1.1.4->ultralytics) (2024.1)\n",
            "Requirement already satisfied: pytz>=2020.1 in /usr/lib/python3/dist-packages (from pandas>=1.1.4->ultralytics) (2022.1)\n",
            "Requirement already satisfied: python-dateutil>=2.8.2 in /home/chiavetta/.local/lib/python3.10/site-packages (from pandas>=1.1.4->ultralytics) (2.9.0.post0)\n",
            "Requirement already satisfied: certifi>=2017.4.17 in /home/chiavetta/.local/lib/python3.10/site-packages (from requests>=2.23.0->ultralytics) (2023.7.22)\n",
            "Requirement already satisfied: charset-normalizer~=2.0.0 in /home/chiavetta/.local/lib/python3.10/site-packages (from requests>=2.23.0->ultralytics) (2.0.12)\n",
            "Requirement already satisfied: idna<4,>=2.5 in /home/chiavetta/.local/lib/python3.10/site-packages (from requests>=2.23.0->ultralytics) (2.10)\n",
            "Requirement already satisfied: urllib3<1.27,>=1.21.1 in /home/chiavetta/.local/lib/python3.10/site-packages (from requests>=2.23.0->ultralytics) (1.26.7)\n",
            "Requirement already satisfied: nvidia-cuda-runtime-cu12==12.1.105 in /home/chiavetta/.local/lib/python3.10/site-packages (from torch>=1.8.0->ultralytics) (12.1.105)\n",
            "Requirement already satisfied: nvidia-cublas-cu12==12.1.3.1 in /home/chiavetta/.local/lib/python3.10/site-packages (from torch>=1.8.0->ultralytics) (12.1.3.1)\n",
            "Requirement already satisfied: nvidia-cufft-cu12==11.0.2.54 in /home/chiavetta/.local/lib/python3.10/site-packages (from torch>=1.8.0->ultralytics) (11.0.2.54)\n",
            "Requirement already satisfied: filelock in /home/chiavetta/.local/lib/python3.10/site-packages (from torch>=1.8.0->ultralytics) (3.14.0)\n",
            "Requirement already satisfied: jinja2 in /usr/lib/python3/dist-packages (from torch>=1.8.0->ultralytics) (3.0.3)\n",
            "Requirement already satisfied: networkx in /home/chiavetta/.local/lib/python3.10/site-packages (from torch>=1.8.0->ultralytics) (3.3)\n",
            "Requirement already satisfied: nvidia-cudnn-cu12==8.9.2.26 in /home/chiavetta/.local/lib/python3.10/site-packages (from torch>=1.8.0->ultralytics) (8.9.2.26)\n",
            "Requirement already satisfied: nvidia-nvtx-cu12==12.1.105 in /home/chiavetta/.local/lib/python3.10/site-packages (from torch>=1.8.0->ultralytics) (12.1.105)\n",
            "Requirement already satisfied: triton==2.3.0 in /home/chiavetta/.local/lib/python3.10/site-packages (from torch>=1.8.0->ultralytics) (2.3.0)\n",
            "Requirement already satisfied: typing-extensions>=4.8.0 in /home/chiavetta/.local/lib/python3.10/site-packages (from torch>=1.8.0->ultralytics) (4.11.0)\n",
            "Requirement already satisfied: fsspec in /home/chiavetta/.local/lib/python3.10/site-packages (from torch>=1.8.0->ultralytics) (2024.5.0)\n",
            "Requirement already satisfied: nvidia-cusolver-cu12==11.4.5.107 in /home/chiavetta/.local/lib/python3.10/site-packages (from torch>=1.8.0->ultralytics) (11.4.5.107)\n",
            "Requirement already satisfied: nvidia-cusparse-cu12==12.1.0.106 in /home/chiavetta/.local/lib/python3.10/site-packages (from torch>=1.8.0->ultralytics) (12.1.0.106)\n",
            "Requirement already satisfied: sympy in /usr/lib/python3/dist-packages (from torch>=1.8.0->ultralytics) (1.9)\n",
            "Requirement already satisfied: nvidia-cuda-nvrtc-cu12==12.1.105 in /home/chiavetta/.local/lib/python3.10/site-packages (from torch>=1.8.0->ultralytics) (12.1.105)\n",
            "Requirement already satisfied: nvidia-nccl-cu12==2.20.5 in /home/chiavetta/.local/lib/python3.10/site-packages (from torch>=1.8.0->ultralytics) (2.20.5)\n",
            "Requirement already satisfied: nvidia-cuda-cupti-cu12==12.1.105 in /home/chiavetta/.local/lib/python3.10/site-packages (from torch>=1.8.0->ultralytics) (12.1.105)\n",
            "Requirement already satisfied: nvidia-curand-cu12==10.3.2.106 in /home/chiavetta/.local/lib/python3.10/site-packages (from torch>=1.8.0->ultralytics) (10.3.2.106)\n",
            "Requirement already satisfied: nvidia-nvjitlink-cu12 in /home/chiavetta/.local/lib/python3.10/site-packages (from nvidia-cusolver-cu12==11.4.5.107->torch>=1.8.0->ultralytics) (12.4.127)\n",
            "Requirement already satisfied: six>=1.5 in /usr/lib/python3/dist-packages (from python-dateutil>=2.8.2->pandas>=1.1.4->ultralytics) (1.16.0)\n",
            "Note: you may need to restart the kernel to use updated packages.\n",
            "Defaulting to user installation because normal site-packages is not writeable\n",
            "Requirement already satisfied: roboflow in /home/chiavetta/.local/lib/python3.10/site-packages (1.1.29)\n",
            "Requirement already satisfied: python-dateutil in /home/chiavetta/.local/lib/python3.10/site-packages (from roboflow) (2.9.0.post0)\n",
            "Requirement already satisfied: kiwisolver>=1.3.1 in /usr/lib/python3/dist-packages (from roboflow) (1.3.2)\n",
            "Requirement already satisfied: urllib3>=1.26.6 in /home/chiavetta/.local/lib/python3.10/site-packages (from roboflow) (1.26.7)\n",
            "Requirement already satisfied: idna==2.10 in /home/chiavetta/.local/lib/python3.10/site-packages (from roboflow) (2.10)\n",
            "Requirement already satisfied: requests-toolbelt in /usr/lib/python3/dist-packages (from roboflow) (0.9.1)\n",
            "Requirement already satisfied: chardet==4.0.0 in /usr/lib/python3/dist-packages (from roboflow) (4.0.0)\n",
            "Requirement already satisfied: python-magic in /home/chiavetta/.local/lib/python3.10/site-packages (from roboflow) (0.4.27)\n",
            "Requirement already satisfied: certifi==2023.7.22 in /home/chiavetta/.local/lib/python3.10/site-packages (from roboflow) (2023.7.22)\n",
            "Requirement already satisfied: requests in /home/chiavetta/.local/lib/python3.10/site-packages (from roboflow) (2.27.1)\n",
            "Requirement already satisfied: cycler==0.10.0 in /home/chiavetta/.local/lib/python3.10/site-packages (from roboflow) (0.10.0)\n",
            "Requirement already satisfied: python-dotenv in /home/chiavetta/.local/lib/python3.10/site-packages (from roboflow) (1.0.1)\n",
            "Requirement already satisfied: PyYAML>=5.3.1 in /usr/lib/python3/dist-packages (from roboflow) (5.4.1)\n",
            "Requirement already satisfied: tqdm>=4.41.0 in /home/chiavetta/.local/lib/python3.10/site-packages (from roboflow) (4.66.4)\n",
            "Requirement already satisfied: Pillow>=7.1.2 in /usr/lib/python3/dist-packages (from roboflow) (9.0.1)\n",
            "Requirement already satisfied: six in /usr/lib/python3/dist-packages (from roboflow) (1.16.0)\n",
            "Requirement already satisfied: numpy>=1.18.5 in /home/chiavetta/.local/lib/python3.10/site-packages (from roboflow) (1.26.4)\n",
            "Requirement already satisfied: opencv-python-headless==4.8.0.74 in /home/chiavetta/.local/lib/python3.10/site-packages (from roboflow) (4.8.0.74)\n",
            "Requirement already satisfied: matplotlib in /usr/lib/python3/dist-packages (from roboflow) (3.5.1)\n",
            "Requirement already satisfied: charset-normalizer~=2.0.0 in /home/chiavetta/.local/lib/python3.10/site-packages (from requests->roboflow) (2.0.12)\n",
            "Note: you may need to restart the kernel to use updated packages.\n"
          ]
        }
      ],
      "source": [
        "import cv2\n",
        "import os\n",
        "import torch\n",
        "import numpy as np\n",
        "import matplotlib.pyplot as plt\n",
        "from tensorflow.keras.preprocessing.image import ImageDataGenerator\n",
        "from tensorflow.keras.preprocessing import image\n",
        "%pip install ultralytics\n",
        "%pip install roboflow\n",
        "from ultralytics import YOLO"
      ]
    },
    {
      "cell_type": "code",
      "execution_count": 6,
      "metadata": {
        "colab": {
          "base_uri": "https://localhost:8080/"
        },
        "id": "FmEU5vpuTZ9f",
        "outputId": "3885edf5-f24a-4154-a4a9-a33a5926d380"
      },
      "outputs": [
        {
          "name": "stdout",
          "output_type": "stream",
          "text": [
            "loading Roboflow workspace...\n",
            "loading Roboflow project...\n",
            "Dependency ultralytics==8.0.196 is required but found version=8.2.17, to fix: `pip install ultralytics==8.0.196`\n"
          ]
        },
        {
          "name": "stderr",
          "output_type": "stream",
          "text": [
            "Downloading Dataset Version Zip in Recyclable-Waste--1 to yolov8:: 100%|██████████| 191183/191183 [00:16<00:00, 11345.84it/s]"
          ]
        },
        {
          "name": "stdout",
          "output_type": "stream",
          "text": [
            "\n"
          ]
        },
        {
          "name": "stderr",
          "output_type": "stream",
          "text": [
            "\n",
            "Extracting Dataset Version Zip to Recyclable-Waste--1 in yolov8:: 100%|██████████| 12050/12050 [00:00<00:00, 21367.81it/s]\n"
          ]
        }
      ],
      "source": [
        "\n",
        "from roboflow import Roboflow\n",
        "rf = Roboflow(api_key=\"kOUZOWcGtfa8yegh0ypQ\")\n",
        "project = rf.workspace(\"thesis-ifxof\").project(\"recyclable-waste\")\n",
        "version = project.version(1)\n",
        "dataset = version.download(\"yolov8\")\n"
      ]
    },
    {
      "cell_type": "code",
      "execution_count": 7,
      "metadata": {
        "id": "RoDk-ZYSTZ9f"
      },
      "outputs": [],
      "source": [
        "def resize_image(img, size=(224, 224)):\n",
        "    return cv2.resize(img, size)\n"
      ]
    },
    {
      "cell_type": "code",
      "execution_count": 9,
      "metadata": {
        "id": "GDDKl6jjTZ9f"
      },
      "outputs": [],
      "source": [
        "def normalize_image(img):\n",
        "    return img / 255.0\n"
      ]
    },
    {
      "cell_type": "code",
      "execution_count": 12,
      "metadata": {
        "id": "snUalXtvTZ9g"
      },
      "outputs": [],
      "source": [
        "datagen = ImageDataGenerator(\n",
        "    rotation_range=20,\n",
        "    width_shift_range=0.2,\n",
        "    height_shift_range=0.2,\n",
        "    shear_range=0.2,\n",
        "    zoom_range=0.2,\n",
        "    horizontal_flip=True,\n",
        "    fill_mode='nearest'\n",
        ")\n",
        "\n",
        "def augment_image(img):\n",
        "    img = image.img_to_array(img)\n",
        "    img = np.expand_dims(img, axis=0)\n",
        "    aug_iter = datagen.flow(img)\n",
        "    aug_img = next(aug_iter)[0].astype('uint8')\n",
        "    return aug_img\n"
      ]
    },
    {
      "cell_type": "code",
      "execution_count": 13,
      "metadata": {
        "id": "cqGI68cVTZ9g"
      },
      "outputs": [],
      "source": [
        "def preprocess_image(img_path, save_path):\n",
        "    # Load the image\n",
        "    img = cv2.imread(img_path)\n",
        "\n",
        "    # Resize the image\n",
        "    #img = resize_image(img)\n",
        "\n",
        "    # Normalize the image\n",
        "    img = normalize_image(img)\n",
        "\n",
        "    # Augment the image\n",
        "    #img = augment_image(img)\n",
        "    plt.imsave(save_path, img)\n",
        "\n",
        "\n",
        "    return img\n",
        "\n",
        "\n"
      ]
    },
    {
      "cell_type": "code",
      "execution_count": 14,
      "metadata": {
        "colab": {
          "base_uri": "https://localhost:8080/"
        },
        "id": "fik-tZRxTZ9g",
        "outputId": "199f9ef1-c21e-410d-884c-ff901d52bb72"
      },
      "outputs": [
        {
          "name": "stdout",
          "output_type": "stream",
          "text": [
            "Le cartelle all'interno della directory sono:\n",
            "valid\n",
            "test\n",
            "train\n"
          ]
        }
      ],
      "source": [
        "def ottieni_cartelle(path):\n",
        "    # Verifica se il percorso fornito esiste ed è una directory\n",
        "    if not os.path.isdir(path):\n",
        "        raise ValueError(f\"Il percorso {path} non è una directory valida.\")\n",
        "\n",
        "    # Ottieni tutte le cartelle all'interno della directory specificata\n",
        "    cartelle = [nome for nome in os.listdir(path) if os.path.isdir(os.path.join(path, nome))]\n",
        "\n",
        "    return cartelle\n",
        "\n",
        "# Esempio di utilizzo\n",
        "percorso = 'Recyclable-Waste--1'\n",
        "cartelle = ottieni_cartelle(percorso)\n",
        "\n",
        "print(\"Le cartelle all'interno della directory sono:\")\n",
        "for cartella in cartelle:\n",
        "    print(cartella)\n"
      ]
    },
    {
      "cell_type": "code",
      "execution_count": 15,
      "metadata": {
        "id": "Wm5oqYLeTZ9g"
      },
      "outputs": [],
      "source": [
        "\n",
        "def preprocess_dataset(input_dir, output_dir):\n",
        "    for subset in ['train', 'valid', 'test']:\n",
        "        image_dir = os.path.join(input_dir, subset, 'images')\n",
        "        label_dir = os.path.join(input_dir, subset, 'labels')\n",
        "\n",
        "        output_image_dir = os.path.join(output_dir, subset, 'images')\n",
        "        output_label_dir = os.path.join(output_dir, subset, 'labels')\n",
        "\n",
        "        os.makedirs(output_image_dir, exist_ok=True)\n",
        "        os.makedirs(output_label_dir, exist_ok=True)\n",
        "\n",
        "        for img_file in os.listdir(image_dir):\n",
        "            img_path = os.path.join(image_dir, img_file)\n",
        "            save_path = os.path.join(output_image_dir, img_file)\n",
        "            preprocess_image(img_path, save_path)\n",
        "\n",
        "            # Copia le annotazioni senza modifiche\n",
        "            label_file = img_file.replace('.jpg', '.txt')\n",
        "            label_src_path = os.path.join(label_dir, label_file)\n",
        "            label_dst_path = os.path.join(output_label_dir, label_file)\n",
        "            if os.path.exists(label_src_path):\n",
        "                with open(label_src_path, 'r') as f:\n",
        "                    annotations = f.readlines()\n",
        "                with open(label_dst_path, 'w') as f:\n",
        "                    f.writelines(annotations)\n",
        "\n",
        "# Esempio di utilizzo\n",
        "input_dir = 'Recyclable-Waste--1'\n",
        "output_dir = 'Preprocessed-Recyclable-Waste--1'\n",
        "preprocess_dataset(input_dir, output_dir)"
      ]
    },
    {
      "cell_type": "code",
      "execution_count": 17,
      "metadata": {
        "id": "33YJ2CvpUq7a"
      },
      "outputs": [],
      "source": [
        "# Create training config file\n",
        "import yaml\n",
        "import os\n",
        "#os.rename(\"GARBAGE-DETECTION-3\",\"datasets\")\n",
        "dataset = 'Preprocessed-Recyclable-Waste--1'\n",
        "labels_name = ['cardboard', 'glass', 'metal', 'paper', 'plastic', 'trash']\n",
        "data = {\n",
        "    \"train\": f\"{dataset}/train\",\n",
        "    \"val\":   f\"{dataset}/valid\",\n",
        "    \"test\":  f\"{dataset}/test\",\n",
        "    \"nc\": len(labels_name),\n",
        "    \"names\": labels_name,\n",
        "}\n",
        "# Create and write to the YAML file\n",
        "yaml_file_path = f\"{dataset}/data.yaml\"\n",
        "with open(yaml_file_path, 'w') as file:\n",
        "    yaml.dump(data, file, sort_keys=False)"
      ]
    },
    {
      "cell_type": "code",
      "execution_count": 18,
      "metadata": {
        "colab": {
          "base_uri": "https://localhost:8080/"
        },
        "id": "_Os4kBojUU08",
        "outputId": "fda30459-6896-4ad9-d88d-065a9c94f819"
      },
      "outputs": [
        {
          "name": "stdout",
          "output_type": "stream",
          "text": [
            "Downloading https://github.com/ultralytics/assets/releases/download/v8.2.0/yolov9c.pt to 'yolov9c.pt'...\n"
          ]
        },
        {
          "name": "stderr",
          "output_type": "stream",
          "text": [
            "100%|██████████| 49.4M/49.4M [00:04<00:00, 12.7MB/s]\n"
          ]
        }
      ],
      "source": [
        "model = YOLO('yolov9c.pt', task='detect')"
      ]
    },
    {
      "cell_type": "code",
      "execution_count": 20,
      "metadata": {},
      "outputs": [
        {
          "data": {
            "text/plain": [
              "True"
            ]
          },
          "execution_count": 20,
          "metadata": {},
          "output_type": "execute_result"
        }
      ],
      "source": [
        "torch.cuda.is_available()"
      ]
    },
    {
      "cell_type": "code",
      "execution_count": 19,
      "metadata": {
        "colab": {
          "background_save": true,
          "base_uri": "https://localhost:8080/"
        },
        "id": "r8-g5iCZUkM-",
        "outputId": "9e5d6e58-3a68-41c6-fb33-b00a1d885353"
      },
      "outputs": [
        {
          "name": "stdout",
          "output_type": "stream",
          "text": [
            "New https://pypi.org/project/ultralytics/8.2.19 available 😃 Update with 'pip install -U ultralytics'\n",
            "Ultralytics YOLOv8.2.17 🚀 Python-3.10.12 torch-2.3.0+cu121 CUDA:0 (NVIDIA GeForce RTX 4060 Laptop GPU, 7940MiB)\n",
            "\u001b[34m\u001b[1mengine/trainer: \u001b[0mtask=detect, mode=train, model=yolov9c.pt, data=/home/chiavetta/Scrivania/training_embedded/Preprocessed-Recyclable-Waste--1/data.yaml, epochs=15, time=None, patience=100, batch=-1, imgsz=640, save=True, save_period=-1, cache=False, device=None, workers=8, project=tmp, name=train, exist_ok=False, pretrained=True, optimizer=auto, verbose=True, seed=0, deterministic=True, single_cls=False, rect=False, cos_lr=False, close_mosaic=10, resume=False, amp=True, fraction=1.0, profile=False, freeze=None, multi_scale=False, overlap_mask=True, mask_ratio=4, dropout=0.0, val=True, split=val, save_json=False, save_hybrid=False, conf=None, iou=0.7, max_det=300, half=False, dnn=False, plots=True, source=None, vid_stride=1, stream_buffer=False, visualize=False, augment=False, agnostic_nms=False, classes=None, retina_masks=False, embed=None, show=False, save_frames=False, save_txt=False, save_conf=False, save_crop=False, show_labels=True, show_conf=True, show_boxes=True, line_width=None, format=torchscript, keras=False, optimize=False, int8=False, dynamic=False, simplify=False, opset=None, workspace=4, nms=False, lr0=0.01, lrf=0.01, momentum=0.937, weight_decay=0.0005, warmup_epochs=3.0, warmup_momentum=0.8, warmup_bias_lr=0.1, box=7.5, cls=0.5, dfl=1.5, pose=12.0, kobj=1.0, label_smoothing=0.0, nbs=64, hsv_h=0.015, hsv_s=0.7, hsv_v=0.4, degrees=0.0, translate=0.1, scale=0.5, shear=0.0, perspective=0.0, flipud=0.0, fliplr=0.5, bgr=0.0, mosaic=1.0, mixup=0.0, copy_paste=0.0, auto_augment=randaugment, erasing=0.4, crop_fraction=1.0, cfg=None, tracker=botsort.yaml, save_dir=tmp/train\n"
          ]
        },
        {
          "ename": "RuntimeError",
          "evalue": "Dataset '/home/chiavetta/Scrivania/training_embedded/Preprocessed-Recyclable-Waste--1/data.yaml' error ❌ \nDataset '/home/chiavetta/Scrivania/training_embedded/Preprocessed-Recyclable-Waste--1/data.yaml' images not found ⚠️, missing path '/home/chiavetta/Scrivania/training_embedded/Preprocessed-Recyclable-Waste--1/Preprocessed-Recyclable-Waste--1/valid'\nNote dataset download directory is '/home/chiavetta/Scrivania/training_for_trash/datasets'. You can update this in '/home/chiavetta/.config/Ultralytics/settings.yaml'",
          "output_type": "error",
          "traceback": [
            "\u001b[0;31m---------------------------------------------------------------------------\u001b[0m",
            "\u001b[0;31mFileNotFoundError\u001b[0m                         Traceback (most recent call last)",
            "File \u001b[0;32m~/.local/lib/python3.10/site-packages/ultralytics/engine/trainer.py:517\u001b[0m, in \u001b[0;36mBaseTrainer.get_dataset\u001b[0;34m(self)\u001b[0m\n\u001b[1;32m    511\u001b[0m \u001b[38;5;28;01melif\u001b[39;00m \u001b[38;5;28mself\u001b[39m\u001b[38;5;241m.\u001b[39margs\u001b[38;5;241m.\u001b[39mdata\u001b[38;5;241m.\u001b[39msplit(\u001b[38;5;124m\"\u001b[39m\u001b[38;5;124m.\u001b[39m\u001b[38;5;124m\"\u001b[39m)[\u001b[38;5;241m-\u001b[39m\u001b[38;5;241m1\u001b[39m] \u001b[38;5;129;01min\u001b[39;00m {\u001b[38;5;124m\"\u001b[39m\u001b[38;5;124myaml\u001b[39m\u001b[38;5;124m\"\u001b[39m, \u001b[38;5;124m\"\u001b[39m\u001b[38;5;124myml\u001b[39m\u001b[38;5;124m\"\u001b[39m} \u001b[38;5;129;01mor\u001b[39;00m \u001b[38;5;28mself\u001b[39m\u001b[38;5;241m.\u001b[39margs\u001b[38;5;241m.\u001b[39mtask \u001b[38;5;129;01min\u001b[39;00m {\n\u001b[1;32m    512\u001b[0m     \u001b[38;5;124m\"\u001b[39m\u001b[38;5;124mdetect\u001b[39m\u001b[38;5;124m\"\u001b[39m,\n\u001b[1;32m    513\u001b[0m     \u001b[38;5;124m\"\u001b[39m\u001b[38;5;124msegment\u001b[39m\u001b[38;5;124m\"\u001b[39m,\n\u001b[1;32m    514\u001b[0m     \u001b[38;5;124m\"\u001b[39m\u001b[38;5;124mpose\u001b[39m\u001b[38;5;124m\"\u001b[39m,\n\u001b[1;32m    515\u001b[0m     \u001b[38;5;124m\"\u001b[39m\u001b[38;5;124mobb\u001b[39m\u001b[38;5;124m\"\u001b[39m,\n\u001b[1;32m    516\u001b[0m }:\n\u001b[0;32m--> 517\u001b[0m     data \u001b[38;5;241m=\u001b[39m \u001b[43mcheck_det_dataset\u001b[49m\u001b[43m(\u001b[49m\u001b[38;5;28;43mself\u001b[39;49m\u001b[38;5;241;43m.\u001b[39;49m\u001b[43margs\u001b[49m\u001b[38;5;241;43m.\u001b[39;49m\u001b[43mdata\u001b[49m\u001b[43m)\u001b[49m\n\u001b[1;32m    518\u001b[0m     \u001b[38;5;28;01mif\u001b[39;00m \u001b[38;5;124m\"\u001b[39m\u001b[38;5;124myaml_file\u001b[39m\u001b[38;5;124m\"\u001b[39m \u001b[38;5;129;01min\u001b[39;00m data:\n",
            "File \u001b[0;32m~/.local/lib/python3.10/site-packages/ultralytics/data/utils.py:329\u001b[0m, in \u001b[0;36mcheck_det_dataset\u001b[0;34m(dataset, autodownload)\u001b[0m\n\u001b[1;32m    328\u001b[0m     m \u001b[38;5;241m+\u001b[39m\u001b[38;5;241m=\u001b[39m \u001b[38;5;124mf\u001b[39m\u001b[38;5;124m\"\u001b[39m\u001b[38;5;130;01m\\n\u001b[39;00m\u001b[38;5;124mNote dataset download directory is \u001b[39m\u001b[38;5;124m'\u001b[39m\u001b[38;5;132;01m{\u001b[39;00mDATASETS_DIR\u001b[38;5;132;01m}\u001b[39;00m\u001b[38;5;124m'\u001b[39m\u001b[38;5;124m. You can update this in \u001b[39m\u001b[38;5;124m'\u001b[39m\u001b[38;5;132;01m{\u001b[39;00mSETTINGS_YAML\u001b[38;5;132;01m}\u001b[39;00m\u001b[38;5;124m'\u001b[39m\u001b[38;5;124m\"\u001b[39m\n\u001b[0;32m--> 329\u001b[0m     \u001b[38;5;28;01mraise\u001b[39;00m \u001b[38;5;167;01mFileNotFoundError\u001b[39;00m(m)\n\u001b[1;32m    330\u001b[0m t \u001b[38;5;241m=\u001b[39m time\u001b[38;5;241m.\u001b[39mtime()\n",
            "\u001b[0;31mFileNotFoundError\u001b[0m: \nDataset '/home/chiavetta/Scrivania/training_embedded/Preprocessed-Recyclable-Waste--1/data.yaml' images not found ⚠️, missing path '/home/chiavetta/Scrivania/training_embedded/Preprocessed-Recyclable-Waste--1/Preprocessed-Recyclable-Waste--1/valid'\nNote dataset download directory is '/home/chiavetta/Scrivania/training_for_trash/datasets'. You can update this in '/home/chiavetta/.config/Ultralytics/settings.yaml'",
            "\nThe above exception was the direct cause of the following exception:\n",
            "\u001b[0;31mRuntimeError\u001b[0m                              Traceback (most recent call last)",
            "Cell \u001b[0;32mIn[19], line 3\u001b[0m\n\u001b[1;32m      1\u001b[0m torch\u001b[38;5;241m.\u001b[39mcuda\u001b[38;5;241m.\u001b[39mempty_cache()\n\u001b[1;32m      2\u001b[0m t_dir \u001b[38;5;241m=\u001b[39m \u001b[38;5;124m'\u001b[39m\u001b[38;5;124m/home/chiavetta/Scrivania/training_embedded/Preprocessed-Recyclable-Waste--1/data.yaml\u001b[39m\u001b[38;5;124m'\u001b[39m\n\u001b[0;32m----> 3\u001b[0m \u001b[43mmodel\u001b[49m\u001b[38;5;241;43m.\u001b[39;49m\u001b[43mtrain\u001b[49m\u001b[43m(\u001b[49m\u001b[43mdata\u001b[49m\u001b[38;5;241;43m=\u001b[39;49m\u001b[43mt_dir\u001b[49m\u001b[43m,\u001b[49m\u001b[43m \u001b[49m\u001b[43mbatch\u001b[49m\u001b[38;5;241;43m=\u001b[39;49m\u001b[38;5;241;43m-\u001b[39;49m\u001b[38;5;241;43m1\u001b[39;49m\u001b[43m,\u001b[49m\u001b[43m \u001b[49m\u001b[43mepochs\u001b[49m\u001b[38;5;241;43m=\u001b[39;49m\u001b[38;5;241;43m15\u001b[39;49m\u001b[43m,\u001b[49m\u001b[43m \u001b[49m\u001b[43mproject\u001b[49m\u001b[38;5;241;43m=\u001b[39;49m\u001b[38;5;124;43m'\u001b[39;49m\u001b[38;5;124;43mtmp\u001b[39;49m\u001b[38;5;124;43m'\u001b[39;49m\u001b[43m)\u001b[49m\n",
            "File \u001b[0;32m~/.local/lib/python3.10/site-packages/ultralytics/engine/model.py:655\u001b[0m, in \u001b[0;36mModel.train\u001b[0;34m(self, trainer, **kwargs)\u001b[0m\n\u001b[1;32m    652\u001b[0m \u001b[38;5;28;01mif\u001b[39;00m args\u001b[38;5;241m.\u001b[39mget(\u001b[38;5;124m\"\u001b[39m\u001b[38;5;124mresume\u001b[39m\u001b[38;5;124m\"\u001b[39m):\n\u001b[1;32m    653\u001b[0m     args[\u001b[38;5;124m\"\u001b[39m\u001b[38;5;124mresume\u001b[39m\u001b[38;5;124m\"\u001b[39m] \u001b[38;5;241m=\u001b[39m \u001b[38;5;28mself\u001b[39m\u001b[38;5;241m.\u001b[39mckpt_path\n\u001b[0;32m--> 655\u001b[0m \u001b[38;5;28mself\u001b[39m\u001b[38;5;241m.\u001b[39mtrainer \u001b[38;5;241m=\u001b[39m \u001b[43m(\u001b[49m\u001b[43mtrainer\u001b[49m\u001b[43m \u001b[49m\u001b[38;5;129;43;01mor\u001b[39;49;00m\u001b[43m \u001b[49m\u001b[38;5;28;43mself\u001b[39;49m\u001b[38;5;241;43m.\u001b[39;49m\u001b[43m_smart_load\u001b[49m\u001b[43m(\u001b[49m\u001b[38;5;124;43m\"\u001b[39;49m\u001b[38;5;124;43mtrainer\u001b[39;49m\u001b[38;5;124;43m\"\u001b[39;49m\u001b[43m)\u001b[49m\u001b[43m)\u001b[49m\u001b[43m(\u001b[49m\u001b[43moverrides\u001b[49m\u001b[38;5;241;43m=\u001b[39;49m\u001b[43margs\u001b[49m\u001b[43m,\u001b[49m\u001b[43m \u001b[49m\u001b[43m_callbacks\u001b[49m\u001b[38;5;241;43m=\u001b[39;49m\u001b[38;5;28;43mself\u001b[39;49m\u001b[38;5;241;43m.\u001b[39;49m\u001b[43mcallbacks\u001b[49m\u001b[43m)\u001b[49m\n\u001b[1;32m    656\u001b[0m \u001b[38;5;28;01mif\u001b[39;00m \u001b[38;5;129;01mnot\u001b[39;00m args\u001b[38;5;241m.\u001b[39mget(\u001b[38;5;124m\"\u001b[39m\u001b[38;5;124mresume\u001b[39m\u001b[38;5;124m\"\u001b[39m):  \u001b[38;5;66;03m# manually set model only if not resuming\u001b[39;00m\n\u001b[1;32m    657\u001b[0m     \u001b[38;5;28mself\u001b[39m\u001b[38;5;241m.\u001b[39mtrainer\u001b[38;5;241m.\u001b[39mmodel \u001b[38;5;241m=\u001b[39m \u001b[38;5;28mself\u001b[39m\u001b[38;5;241m.\u001b[39mtrainer\u001b[38;5;241m.\u001b[39mget_model(weights\u001b[38;5;241m=\u001b[39m\u001b[38;5;28mself\u001b[39m\u001b[38;5;241m.\u001b[39mmodel \u001b[38;5;28;01mif\u001b[39;00m \u001b[38;5;28mself\u001b[39m\u001b[38;5;241m.\u001b[39mckpt \u001b[38;5;28;01melse\u001b[39;00m \u001b[38;5;28;01mNone\u001b[39;00m, cfg\u001b[38;5;241m=\u001b[39m\u001b[38;5;28mself\u001b[39m\u001b[38;5;241m.\u001b[39mmodel\u001b[38;5;241m.\u001b[39myaml)\n",
            "File \u001b[0;32m~/.local/lib/python3.10/site-packages/ultralytics/engine/trainer.py:130\u001b[0m, in \u001b[0;36mBaseTrainer.__init__\u001b[0;34m(self, cfg, overrides, _callbacks)\u001b[0m\n\u001b[1;32m    128\u001b[0m \u001b[38;5;66;03m# Model and Dataset\u001b[39;00m\n\u001b[1;32m    129\u001b[0m \u001b[38;5;28mself\u001b[39m\u001b[38;5;241m.\u001b[39mmodel \u001b[38;5;241m=\u001b[39m check_model_file_from_stem(\u001b[38;5;28mself\u001b[39m\u001b[38;5;241m.\u001b[39margs\u001b[38;5;241m.\u001b[39mmodel)  \u001b[38;5;66;03m# add suffix, i.e. yolov8n -> yolov8n.pt\u001b[39;00m\n\u001b[0;32m--> 130\u001b[0m \u001b[38;5;28mself\u001b[39m\u001b[38;5;241m.\u001b[39mtrainset, \u001b[38;5;28mself\u001b[39m\u001b[38;5;241m.\u001b[39mtestset \u001b[38;5;241m=\u001b[39m \u001b[38;5;28;43mself\u001b[39;49m\u001b[38;5;241;43m.\u001b[39;49m\u001b[43mget_dataset\u001b[49m\u001b[43m(\u001b[49m\u001b[43m)\u001b[49m\n\u001b[1;32m    131\u001b[0m \u001b[38;5;28mself\u001b[39m\u001b[38;5;241m.\u001b[39mema \u001b[38;5;241m=\u001b[39m \u001b[38;5;28;01mNone\u001b[39;00m\n\u001b[1;32m    133\u001b[0m \u001b[38;5;66;03m# Optimization utils init\u001b[39;00m\n",
            "File \u001b[0;32m~/.local/lib/python3.10/site-packages/ultralytics/engine/trainer.py:521\u001b[0m, in \u001b[0;36mBaseTrainer.get_dataset\u001b[0;34m(self)\u001b[0m\n\u001b[1;32m    519\u001b[0m             \u001b[38;5;28mself\u001b[39m\u001b[38;5;241m.\u001b[39margs\u001b[38;5;241m.\u001b[39mdata \u001b[38;5;241m=\u001b[39m data[\u001b[38;5;124m\"\u001b[39m\u001b[38;5;124myaml_file\u001b[39m\u001b[38;5;124m\"\u001b[39m]  \u001b[38;5;66;03m# for validating 'yolo train data=url.zip' usage\u001b[39;00m\n\u001b[1;32m    520\u001b[0m \u001b[38;5;28;01mexcept\u001b[39;00m \u001b[38;5;167;01mException\u001b[39;00m \u001b[38;5;28;01mas\u001b[39;00m e:\n\u001b[0;32m--> 521\u001b[0m     \u001b[38;5;28;01mraise\u001b[39;00m \u001b[38;5;167;01mRuntimeError\u001b[39;00m(emojis(\u001b[38;5;124mf\u001b[39m\u001b[38;5;124m\"\u001b[39m\u001b[38;5;124mDataset \u001b[39m\u001b[38;5;124m'\u001b[39m\u001b[38;5;132;01m{\u001b[39;00mclean_url(\u001b[38;5;28mself\u001b[39m\u001b[38;5;241m.\u001b[39margs\u001b[38;5;241m.\u001b[39mdata)\u001b[38;5;132;01m}\u001b[39;00m\u001b[38;5;124m'\u001b[39m\u001b[38;5;124m error ❌ \u001b[39m\u001b[38;5;132;01m{\u001b[39;00me\u001b[38;5;132;01m}\u001b[39;00m\u001b[38;5;124m\"\u001b[39m)) \u001b[38;5;28;01mfrom\u001b[39;00m \u001b[38;5;21;01me\u001b[39;00m\n\u001b[1;32m    522\u001b[0m \u001b[38;5;28mself\u001b[39m\u001b[38;5;241m.\u001b[39mdata \u001b[38;5;241m=\u001b[39m data\n\u001b[1;32m    523\u001b[0m \u001b[38;5;28;01mreturn\u001b[39;00m data[\u001b[38;5;124m\"\u001b[39m\u001b[38;5;124mtrain\u001b[39m\u001b[38;5;124m\"\u001b[39m], data\u001b[38;5;241m.\u001b[39mget(\u001b[38;5;124m\"\u001b[39m\u001b[38;5;124mval\u001b[39m\u001b[38;5;124m\"\u001b[39m) \u001b[38;5;129;01mor\u001b[39;00m data\u001b[38;5;241m.\u001b[39mget(\u001b[38;5;124m\"\u001b[39m\u001b[38;5;124mtest\u001b[39m\u001b[38;5;124m\"\u001b[39m)\n",
            "\u001b[0;31mRuntimeError\u001b[0m: Dataset '/home/chiavetta/Scrivania/training_embedded/Preprocessed-Recyclable-Waste--1/data.yaml' error ❌ \nDataset '/home/chiavetta/Scrivania/training_embedded/Preprocessed-Recyclable-Waste--1/data.yaml' images not found ⚠️, missing path '/home/chiavetta/Scrivania/training_embedded/Preprocessed-Recyclable-Waste--1/Preprocessed-Recyclable-Waste--1/valid'\nNote dataset download directory is '/home/chiavetta/Scrivania/training_for_trash/datasets'. You can update this in '/home/chiavetta/.config/Ultralytics/settings.yaml'"
          ]
        }
      ],
      "source": [
        "torch.cuda.empty_cache()\n",
        "t_dir = '/home/chiavetta/Scrivania/training_embedded/Preprocessed-Recyclable-Waste--1/data.yaml'\n",
        "model.train(data=t_dir, batch=-1, epochs=15, project='tmp')"
      ]
    }
  ],
  "metadata": {
    "accelerator": "GPU",
    "colab": {
      "gpuType": "T4",
      "provenance": []
    },
    "kernelspec": {
      "display_name": "Python 3",
      "name": "python3"
    },
    "language_info": {
      "codemirror_mode": {
        "name": "ipython",
        "version": 3
      },
      "file_extension": ".py",
      "mimetype": "text/x-python",
      "name": "python",
      "nbconvert_exporter": "python",
      "pygments_lexer": "ipython3",
      "version": "3.10.12"
    }
  },
  "nbformat": 4,
  "nbformat_minor": 0
}
